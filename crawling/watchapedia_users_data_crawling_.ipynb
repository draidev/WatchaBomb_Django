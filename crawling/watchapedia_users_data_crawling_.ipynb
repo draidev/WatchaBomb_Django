{
 "cells": [
  {
   "cell_type": "code",
   "execution_count": 1,
   "id": "245ac257",
   "metadata": {},
   "outputs": [],
   "source": [
    "from webdriver_manager.chrome import ChromeDriverManager # 자동으로 크롬드라이버(가상브라우저) 파일을 다운로드해주는 라이브러리\n",
    "from selenium.webdriver.chrome.service import Service # 다운로드된 크롬드라이버 파일을 연결하기 위해 활용\n",
    "\n",
    "from selenium import webdriver\n",
    "from selenium.webdriver.common.by import By\n",
    "from selenium.webdriver.common.keys import Keys\n",
    "\n",
    "from bs4 import BeautifulSoup \n",
    "import time\n",
    "import pandas as pd\n",
    "\n",
    "import warnings\n",
    "warnings.filterwarnings(\"ignore\")"
   ]
  },
  {
   "cell_type": "code",
   "execution_count": 2,
   "id": "cb3e37e2",
   "metadata": {},
   "outputs": [
    {
     "data": {
      "text/html": [
       "<div>\n",
       "<style scoped>\n",
       "    .dataframe tbody tr th:only-of-type {\n",
       "        vertical-align: middle;\n",
       "    }\n",
       "\n",
       "    .dataframe tbody tr th {\n",
       "        vertical-align: top;\n",
       "    }\n",
       "\n",
       "    .dataframe thead th {\n",
       "        text-align: right;\n",
       "    }\n",
       "</style>\n",
       "<table border=\"1\" class=\"dataframe\">\n",
       "  <thead>\n",
       "    <tr style=\"text-align: right;\">\n",
       "      <th></th>\n",
       "      <th>왓챠피디아 평점 TOP 영화</th>\n",
       "      <th>링크</th>\n",
       "    </tr>\n",
       "  </thead>\n",
       "  <tbody>\n",
       "    <tr>\n",
       "      <th>0</th>\n",
       "      <td>하이큐!! 땅 VS 하늘</td>\n",
       "      <td>https://pedia.watcha.com/ko-KR/contents/mO1j3DL</td>\n",
       "    </tr>\n",
       "    <tr>\n",
       "      <th>1</th>\n",
       "      <td>대부 일대기</td>\n",
       "      <td>https://pedia.watcha.com/ko-KR/contents/md6B3Ad</td>\n",
       "    </tr>\n",
       "    <tr>\n",
       "      <th>2</th>\n",
       "      <td>쇼생크 탈출</td>\n",
       "      <td>https://pedia.watcha.com/ko-KR/contents/mNdKBkO</td>\n",
       "    </tr>\n",
       "    <tr>\n",
       "      <th>3</th>\n",
       "      <td>인생은 아름다워</td>\n",
       "      <td>https://pedia.watcha.com/ko-KR/contents/mV539wO</td>\n",
       "    </tr>\n",
       "    <tr>\n",
       "      <th>4</th>\n",
       "      <td>하이큐!! 콘셉트의 싸움</td>\n",
       "      <td>https://pedia.watcha.com/ko-KR/contents/mW4LYBo</td>\n",
       "    </tr>\n",
       "    <tr>\n",
       "      <th>...</th>\n",
       "      <td>...</td>\n",
       "      <td>...</td>\n",
       "    </tr>\n",
       "    <tr>\n",
       "      <th>295</th>\n",
       "      <td>코메디의 왕</td>\n",
       "      <td>https://pedia.watcha.com/ko-KR/contents/mV53EwO</td>\n",
       "    </tr>\n",
       "    <tr>\n",
       "      <th>296</th>\n",
       "      <td>바람</td>\n",
       "      <td>https://pedia.watcha.com/ko-KR/contents/mLOP7lW</td>\n",
       "    </tr>\n",
       "    <tr>\n",
       "      <th>297</th>\n",
       "      <td>몸 값</td>\n",
       "      <td>https://pedia.watcha.com/ko-KR/contents/m533xZ3</td>\n",
       "    </tr>\n",
       "    <tr>\n",
       "      <th>298</th>\n",
       "      <td>중앙역</td>\n",
       "      <td>https://pedia.watcha.com/ko-KR/contents/mgOAvld</td>\n",
       "    </tr>\n",
       "    <tr>\n",
       "      <th>299</th>\n",
       "      <td>아저씨</td>\n",
       "      <td>https://pedia.watcha.com/ko-KR/contents/m5ZXrxO</td>\n",
       "    </tr>\n",
       "  </tbody>\n",
       "</table>\n",
       "<p>300 rows × 2 columns</p>\n",
       "</div>"
      ],
      "text/plain": [
       "    왓챠피디아 평점 TOP 영화                                               링크\n",
       "0     하이큐!! 땅 VS 하늘  https://pedia.watcha.com/ko-KR/contents/mO1j3DL\n",
       "1            대부 일대기  https://pedia.watcha.com/ko-KR/contents/md6B3Ad\n",
       "2            쇼생크 탈출  https://pedia.watcha.com/ko-KR/contents/mNdKBkO\n",
       "3          인생은 아름다워  https://pedia.watcha.com/ko-KR/contents/mV539wO\n",
       "4     하이큐!! 콘셉트의 싸움  https://pedia.watcha.com/ko-KR/contents/mW4LYBo\n",
       "..              ...                                              ...\n",
       "295          코메디의 왕  https://pedia.watcha.com/ko-KR/contents/mV53EwO\n",
       "296              바람  https://pedia.watcha.com/ko-KR/contents/mLOP7lW\n",
       "297             몸 값  https://pedia.watcha.com/ko-KR/contents/m533xZ3\n",
       "298             중앙역  https://pedia.watcha.com/ko-KR/contents/mgOAvld\n",
       "299             아저씨  https://pedia.watcha.com/ko-KR/contents/m5ZXrxO\n",
       "\n",
       "[300 rows x 2 columns]"
      ]
     },
     "execution_count": 2,
     "metadata": {},
     "output_type": "execute_result"
    }
   ],
   "source": [
    "df_movies = pd.read_excel('movie_raw_data.xlsx')\n",
    "df_movies"
   ]
  },
  {
   "cell_type": "code",
   "execution_count": 3,
   "id": "6898b507",
   "metadata": {},
   "outputs": [],
   "source": [
    "df_users = pd.DataFrame(columns = ['유저','유저 링크'])"
   ]
  },
  {
   "cell_type": "code",
   "execution_count": null,
   "id": "2b38f3cb",
   "metadata": {},
   "outputs": [
    {
     "name": "stderr",
     "output_type": "stream",
     "text": [
      "\n",
      "\n",
      "====== WebDriver manager ======\n",
      "Current google-chrome version is 101.0.4951\n",
      "Get LATEST chromedriver version for 101.0.4951 google-chrome\n",
      "Driver [C:\\Users\\mandu\\.wdm\\drivers\\chromedriver\\win32\\101.0.4951.41\\chromedriver.exe] found in cache\n"
     ]
    }
   ],
   "source": [
    "service = Service(executable_path=ChromeDriverManager().install()) \n",
    "driver = webdriver.Chrome(service=service)\n",
    "\n",
    "# 영화 각각 링크로 들어가기\n",
    "for i in range (0,300):\n",
    "    df_movies_links = df_movies['링크'][i] + '/comments'\n",
    "    driver.get(df_movies_links) #여기서 반복문\n",
    "\n",
    "    # 광고 지우기\n",
    "    time.sleep(2)\n",
    "    close_button = '/html/body/div/div/div[2]/div/div/div/button/span'\n",
    "    driver.find_element_by_xpath(close_button).click()\n",
    "    \n",
    "    # 스크롤 내리기 (4초; 생각보다 코멘트 로딩이 느림 / 스크롤이 너무 빨리 내려가면 더이상 안 내려가는 오류발생)\n",
    "    time.sleep(2)\n",
    "    while True:\n",
    "        lastHeight = driver.execute_script(\"return document.body.scrollHeight\")\n",
    "        driver.execute_script(\"window.scrollTo(0, document.body.scrollHeight);\")\n",
    "        time.sleep(4)\n",
    "        newHeight = driver.execute_script(\"return document.body.scrollHeight\")\n",
    "        if newHeight == lastHeight:\n",
    "             break\n",
    "    \n",
    "    # Beautifulsoup으로 유저 데이터\n",
    "    user_name = []\n",
    "    review_url = driver.current_url\n",
    "    movie_url = 'https://pedia.watcha.com'\n",
    "    user_link = []\n",
    "    html = driver.page_source\n",
    "    soup = BeautifulSoup(html,'html.parser')\n",
    "    users = soup.find_all('div',{'class':'css-1cvf9dk'})\n",
    "\n",
    "    for user in users:\n",
    "        user_name.append(user.find('a').get('title'))\n",
    "        user_link.append(movie_url + user.find('a').get('href'))\n",
    "\n",
    "    df_user = pd.DataFrame(zip(user_name,user_link),columns=['유저','유저 링크'])\n",
    "    df_users = df_users.append(df_user)\n",
    "\n",
    "    # 유저 데이터 행 구하기; 링크 index용\n",
    "    num_user = df_user.shape[0]\n",
    "\n",
    "# 드라이버 끝내기\n",
    "driver.close()\n",
    "driver.quit()\n",
    "\n",
    "df_users"
   ]
  },
  {
   "cell_type": "code",
   "execution_count": 24,
   "id": "aec56e0f",
   "metadata": {},
   "outputs": [],
   "source": [
    "# 드라이버 끝내기\n",
    "driver.close()\n",
    "driver.quit()"
   ]
  },
  {
   "cell_type": "code",
   "execution_count": null,
   "id": "6e8ef3fc",
   "metadata": {},
   "outputs": [],
   "source": [
    "df_users.to_excel('users_raw_data.xlsx', index = False, encoding = 'utf-8-sig')"
   ]
  },
  {
   "cell_type": "code",
   "execution_count": null,
   "id": "f74865de",
   "metadata": {},
   "outputs": [],
   "source": []
  },
  {
   "cell_type": "code",
   "execution_count": null,
   "id": "fbb7c753",
   "metadata": {},
   "outputs": [],
   "source": []
  },
  {
   "cell_type": "code",
   "execution_count": null,
   "id": "c49f85b5",
   "metadata": {},
   "outputs": [],
   "source": []
  },
  {
   "cell_type": "code",
   "execution_count": null,
   "id": "b7e77123",
   "metadata": {},
   "outputs": [],
   "source": []
  },
  {
   "cell_type": "code",
   "execution_count": null,
   "id": "02fa0348",
   "metadata": {},
   "outputs": [],
   "source": []
  }
 ],
 "metadata": {
  "kernelspec": {
   "display_name": "Python 3",
   "language": "python",
   "name": "python3"
  },
  "language_info": {
   "codemirror_mode": {
    "name": "ipython",
    "version": 3
   },
   "file_extension": ".py",
   "mimetype": "text/x-python",
   "name": "python",
   "nbconvert_exporter": "python",
   "pygments_lexer": "ipython3",
   "version": "3.8.8"
  }
 },
 "nbformat": 4,
 "nbformat_minor": 5
}
