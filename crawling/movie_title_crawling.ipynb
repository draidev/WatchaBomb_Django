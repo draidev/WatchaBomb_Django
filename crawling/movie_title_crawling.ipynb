{
 "cells": [
  {
   "cell_type": "code",
   "execution_count": 1,
   "id": "df4e6b3e",
   "metadata": {
    "ExecuteTime": {
     "end_time": "2022-05-19T16:47:45.120298Z",
     "start_time": "2022-05-19T16:47:44.495420Z"
    }
   },
   "outputs": [],
   "source": [
    "from webdriver_manager.chrome import ChromeDriverManager # 자동으로 크롬드라이버(가상브라우저) 파일을 다운로드해주는 라이브러리\n",
    "from selenium.webdriver.chrome.service import Service # 다운로드된 크롬드라이버 파일을 연결하기 위해 활용\n",
    "\n",
    "from selenium import webdriver\n",
    "from selenium.webdriver.common.by import By\n",
    "from selenium.webdriver.common.keys import Keys\n",
    "\n",
    "from bs4 import BeautifulSoup \n",
    "import time\n",
    "import pandas as pd\n",
    "\n",
    "import warnings\n",
    "warnings.filterwarnings(\"ignore\")"
   ]
  },
  {
   "cell_type": "code",
   "execution_count": 2,
   "id": "b1fe7388",
   "metadata": {
    "ExecuteTime": {
     "end_time": "2022-05-19T16:56:45.148977Z",
     "start_time": "2022-05-19T16:56:12.106173Z"
    }
   },
   "outputs": [
    {
     "name": "stderr",
     "output_type": "stream",
     "text": [
      "\n",
      "\n",
      "====== WebDriver manager ======\n",
      "Current google-chrome version is 101.0.4951\n",
      "Get LATEST chromedriver version for 101.0.4951 google-chrome\n",
      "There is no [win32] chromedriver for browser  in cache\n",
      "Trying to download new driver from https://chromedriver.storage.googleapis.com/101.0.4951.41/chromedriver_win32.zip\n",
      "Driver has been saved in cache [C:\\Users\\user\\.wdm\\drivers\\chromedriver\\win32\\101.0.4951.41]\n"
     ]
    }
   ],
   "source": [
    "# 자동으로 크롬드라이버(가상브라우저) 파일을 다운로드 후 세팅\n",
    "service = Service(executable_path=ChromeDriverManager().install()) \n",
    "\n",
    "# 세팅된 크롬드라이버를 연결해 가상브라우저 실행\n",
    "driver = webdriver.Chrome(service=service)\n",
    "\n",
    "url = 'https://pedia.watcha.com/ko-KR/staffmades/609'\n",
    "driver.get(url)\n",
    "\n",
    "# 처음에 뜨는 창 제거\n",
    "close_button = '/html/body/div/div/div[2]/div/div/div/button/span'\n",
    "driver.find_element_by_xpath(close_button).click()\n",
    "\n",
    "# 스크롤 끝까지 내리기\n",
    "SCROLL_PAUSE = 2\n",
    "last_height = driver.execute_script(\"return document.body.scrollHeight\")\n",
    "\n",
    "while True:\n",
    "    # 끝까지 스크롤 다운\n",
    "    driver.execute_script(\"window.scrollTo(0, document.body.scrollHeight);\")\n",
    "\n",
    "    # 1초 대기\n",
    "    time.sleep(SCROLL_PAUSE)\n",
    "\n",
    "    # 스크롤 다운 후 스크롤 높이 다시 가져옴\n",
    "    new_height = driver.execute_script(\"return document.body.scrollHeight\")\n",
    "    if new_height == last_height:\n",
    "        break\n",
    "    last_height = new_height\n",
    "\n",
    "html = driver.page_source\n",
    "soup = BeautifulSoup(html,'html.parser')\n",
    "movies = soup.find_all('li',{'class':'css-8y23cj'})\n",
    "\n",
    "time.sleep(3)\n",
    "driver.close()"
   ]
  },
  {
   "cell_type": "code",
   "execution_count": 3,
   "id": "0b872ea3",
   "metadata": {
    "ExecuteTime": {
     "end_time": "2022-05-19T17:01:24.306559Z",
     "start_time": "2022-05-19T17:01:24.287303Z"
    }
   },
   "outputs": [],
   "source": [
    "movie_name = []\n",
    "\n",
    "movie_url = 'https://pedia.watcha.com'\n",
    "movie_link = []\n",
    "for movie in movies:\n",
    "    movie_name.append(movie.find('a').get('title'))\n",
    "    movie_link.append(movie_url + movie.find('a').get('href'))"
   ]
  },
  {
   "cell_type": "code",
   "execution_count": 4,
   "id": "cdc8eaff",
   "metadata": {
    "ExecuteTime": {
     "end_time": "2022-05-19T17:01:25.117772Z",
     "start_time": "2022-05-19T17:01:25.099790Z"
    },
    "scrolled": true
   },
   "outputs": [
    {
     "data": {
      "text/plain": [
       "['티탄',\n",
       " '기생충',\n",
       " '어느 가족',\n",
       " '더 스퀘어',\n",
       " '나, 다니엘 블레이크',\n",
       " '디판',\n",
       " '윈터 슬립',\n",
       " '가장 따뜻한 색, 블루',\n",
       " '아무르',\n",
       " '트리 오브 라이프',\n",
       " '엉클 분미',\n",
       " '하얀 리본',\n",
       " '클래스',\n",
       " '4개월, 3주... 그리고 2일',\n",
       " '보리밭을 흔드는 바람',\n",
       " '더 차일드',\n",
       " '화씨 9/11',\n",
       " '엘리펀트',\n",
       " '피아니스트',\n",
       " '아들의 방',\n",
       " '어둠 속의 댄서',\n",
       " '로제타',\n",
       " '영원과 하루',\n",
       " '체리향기',\n",
       " '우나기',\n",
       " '비밀과 거짓말',\n",
       " '언더그라운드',\n",
       " '펄프 픽션',\n",
       " '패왕별희',\n",
       " '피아노',\n",
       " '최선의 의도',\n",
       " '바톤 핑크',\n",
       " '광란의 사랑',\n",
       " '섹스 거짓말 그리고 비디오테이프',\n",
       " '정복자 펠레',\n",
       " '사탄의 태양 아래',\n",
       " '미션',\n",
       " '아빠는 출장 중',\n",
       " '파리 텍사스',\n",
       " '나라야마 부시코',\n",
       " '욜',\n",
       " '의문의 실종',\n",
       " '철의 사나이',\n",
       " '올 댓 재즈',\n",
       " '카게무샤',\n",
       " '지옥의 묵시록',\n",
       " '양철북',\n",
       " '나막신 나무',\n",
       " '빠드레 빠드로네',\n",
       " '택시 드라이버',\n",
       " '불타는 해의 연대기',\n",
       " '컨버세이션',\n",
       " '하수인',\n",
       " '허수아비',\n",
       " '천국으로 가는 노동계급',\n",
       " '마테이 사건',\n",
       " '사랑의 메신저',\n",
       " '매쉬',\n",
       " '만약',\n",
       " '욕망',\n",
       " '마담 시뇨리',\n",
       " '남과 여',\n",
       " '낵 앤 하우 투 겟 잇',\n",
       " '쉘부르의 우산',\n",
       " '레오파드',\n",
       " '산타 바바라의 맹세',\n",
       " '두 여인',\n",
       " '비리디아나',\n",
       " '이토록 긴 부재',\n",
       " '달콤한 인생',\n",
       " '흑인 오르페',\n",
       " '학이 난다',\n",
       " '우정어린 설득',\n",
       " '침묵의 세계',\n",
       " '마티',\n",
       " '지옥문',\n",
       " '공포의 보수',\n",
       " '2펜스의 희망',\n",
       " '오델로',\n",
       " '밀라노의 기적',\n",
       " '영양 제리',\n",
       " '제3의 사나이',\n",
       " '지그펠드 폴리스',\n",
       " '덤보',\n",
       " '지옥에 떨어진 사람들',\n",
       " '십자포화',\n",
       " '앙투안과 앙투아네트',\n",
       " '터닝 포인트',\n",
       " '고뇌',\n",
       " '무방비 도시',\n",
       " '붉은 초원',\n",
       " '전원 교향곡',\n",
       " '니차 나가르',\n",
       " '날개 없는 사나이들',\n",
       " '마리아 칸델라리아',\n",
       " '잃어버린 주말',\n",
       " '마지막 기회',\n",
       " '밀회',\n",
       " '대평원']"
      ]
     },
     "execution_count": 4,
     "metadata": {},
     "output_type": "execute_result"
    }
   ],
   "source": [
    "movie_name"
   ]
  },
  {
   "cell_type": "code",
   "execution_count": 5,
   "id": "69c87de0",
   "metadata": {
    "ExecuteTime": {
     "end_time": "2022-05-19T17:01:26.154308Z",
     "start_time": "2022-05-19T17:01:26.137389Z"
    },
    "scrolled": true
   },
   "outputs": [
    {
     "data": {
      "text/plain": [
       "['https://pedia.watcha.com/ko-KR/contents/mWLyRm0',\n",
       " 'https://pedia.watcha.com/ko-KR/contents/mdRL4eL',\n",
       " 'https://pedia.watcha.com/ko-KR/contents/m5nQX33',\n",
       " 'https://pedia.watcha.com/ko-KR/contents/mdjaMPa',\n",
       " 'https://pedia.watcha.com/ko-KR/contents/mOPomg7',\n",
       " 'https://pedia.watcha.com/ko-KR/contents/m5nQ4Dy',\n",
       " 'https://pedia.watcha.com/ko-KR/contents/mOo0Gxk',\n",
       " 'https://pedia.watcha.com/ko-KR/contents/mWvLZEd',\n",
       " 'https://pedia.watcha.com/ko-KR/contents/mW48wPW',\n",
       " 'https://pedia.watcha.com/ko-KR/contents/m5xwNjd',\n",
       " 'https://pedia.watcha.com/ko-KR/contents/m9dBG95',\n",
       " 'https://pedia.watcha.com/ko-KR/contents/m5GXMNW',\n",
       " 'https://pedia.watcha.com/ko-KR/contents/mwWLGp5',\n",
       " 'https://pedia.watcha.com/ko-KR/contents/mLOPoXW',\n",
       " 'https://pedia.watcha.com/ko-KR/contents/m5330q5',\n",
       " 'https://pedia.watcha.com/ko-KR/contents/mWpJLvd',\n",
       " 'https://pedia.watcha.com/ko-KR/contents/mDWvEe5',\n",
       " 'https://pedia.watcha.com/ko-KR/contents/mJO1vVd',\n",
       " 'https://pedia.watcha.com/ko-KR/contents/mBOkGJO',\n",
       " 'https://pedia.watcha.com/ko-KR/contents/mAd7JvO',\n",
       " 'https://pedia.watcha.com/ko-KR/contents/mE5Dr7O',\n",
       " 'https://pedia.watcha.com/ko-KR/contents/mBOkx8d',\n",
       " 'https://pedia.watcha.com/ko-KR/contents/mgOAmlO',\n",
       " 'https://pedia.watcha.com/ko-KR/contents/mv5aMQ5',\n",
       " 'https://pedia.watcha.com/ko-KR/contents/mOo1KP5',\n",
       " 'https://pedia.watcha.com/ko-KR/contents/mJ5x3bd',\n",
       " 'https://pedia.watcha.com/ko-KR/contents/md7ZNeO',\n",
       " 'https://pedia.watcha.com/ko-KR/contents/mOgBDaW',\n",
       " 'https://pedia.watcha.com/ko-KR/contents/mJO1awO',\n",
       " 'https://pedia.watcha.com/ko-KR/contents/mAOlBL5',\n",
       " 'https://pedia.watcha.com/ko-KR/contents/m5G2Rvd',\n",
       " 'https://pedia.watcha.com/ko-KR/contents/myWqepW',\n",
       " 'https://pedia.watcha.com/ko-KR/contents/mdMwAwW',\n",
       " 'https://pedia.watcha.com/ko-KR/contents/my5Yaj5',\n",
       " 'https://pedia.watcha.com/ko-KR/contents/mMO2oQd',\n",
       " 'https://pedia.watcha.com/ko-KR/contents/mWy4Dy5',\n",
       " 'https://pedia.watcha.com/ko-KR/contents/mgOA9GO',\n",
       " 'https://pedia.watcha.com/ko-KR/contents/mnWJwJO',\n",
       " 'https://pedia.watcha.com/ko-KR/contents/mOPRzg5',\n",
       " 'https://pedia.watcha.com/ko-KR/contents/m5eQV95',\n",
       " 'https://pedia.watcha.com/ko-KR/contents/mOkDgEd',\n",
       " 'https://pedia.watcha.com/ko-KR/contents/mdEzM25',\n",
       " 'https://pedia.watcha.com/ko-KR/contents/mOAaylO',\n",
       " 'https://pedia.watcha.com/ko-KR/contents/m53zvLd',\n",
       " 'https://pedia.watcha.com/ko-KR/contents/m5rQ4Dd',\n",
       " 'https://pedia.watcha.com/ko-KR/contents/md6YlgO',\n",
       " 'https://pedia.watcha.com/ko-KR/contents/m2dj9NO',\n",
       " 'https://pedia.watcha.com/ko-KR/contents/mW9NVZO',\n",
       " 'https://pedia.watcha.com/ko-KR/contents/m9dBl2W',\n",
       " 'https://pedia.watcha.com/ko-KR/contents/mWLjGNd',\n",
       " 'https://pedia.watcha.com/ko-KR/contents/mOVoQZd',\n",
       " 'https://pedia.watcha.com/ko-KR/contents/m5rooVW',\n",
       " 'https://pedia.watcha.com/ko-KR/contents/mdKYaVW',\n",
       " 'https://pedia.watcha.com/ko-KR/contents/m5aZkQW',\n",
       " 'https://pedia.watcha.com/ko-KR/contents/m5mLYzd',\n",
       " 'https://pedia.watcha.com/ko-KR/contents/mdBX0YW',\n",
       " 'https://pedia.watcha.com/ko-KR/contents/m5naz9d',\n",
       " 'https://pedia.watcha.com/ko-KR/contents/m530bpW',\n",
       " 'https://pedia.watcha.com/ko-KR/contents/mdj6Qwd',\n",
       " 'https://pedia.watcha.com/ko-KR/contents/mOP7EPW',\n",
       " 'https://pedia.watcha.com/ko-KR/contents/mdj3qN5',\n",
       " 'https://pedia.watcha.com/ko-KR/contents/mOAXQEW',\n",
       " 'https://pedia.watcha.com/ko-KR/contents/m5nm6Yd',\n",
       " 'https://pedia.watcha.com/ko-KR/contents/mV53qyO',\n",
       " 'https://pedia.watcha.com/ko-KR/contents/mWzY305',\n",
       " 'https://pedia.watcha.com/ko-KR/contents/mOlz9N5',\n",
       " 'https://pedia.watcha.com/ko-KR/contents/m5XP9L5',\n",
       " 'https://pedia.watcha.com/ko-KR/contents/myWqbBO',\n",
       " 'https://pedia.watcha.com/ko-KR/contents/md690Ea',\n",
       " 'https://pedia.watcha.com/ko-KR/contents/mO8K63W',\n",
       " 'https://pedia.watcha.com/ko-KR/contents/mWJNB4W',\n",
       " 'https://pedia.watcha.com/ko-KR/contents/m5DlD15',\n",
       " 'https://pedia.watcha.com/ko-KR/contents/mOk8lMd',\n",
       " 'https://pedia.watcha.com/ko-KR/contents/mOgXM0d',\n",
       " 'https://pedia.watcha.com/ko-KR/contents/mOkvkJW',\n",
       " 'https://pedia.watcha.com/ko-KR/contents/mOkK78O',\n",
       " 'https://pedia.watcha.com/ko-KR/contents/mdj02JW',\n",
       " 'https://pedia.watcha.com/ko-KR/contents/mO06oYx',\n",
       " 'https://pedia.watcha.com/ko-KR/contents/mgOAvXd',\n",
       " 'https://pedia.watcha.com/ko-KR/contents/m5Xlzg5',\n",
       " 'https://pedia.watcha.com/ko-KR/contents/m5eKG3O',\n",
       " 'https://pedia.watcha.com/ko-KR/contents/mWqJl2O',\n",
       " 'https://pedia.watcha.com/ko-KR/contents/mWw9Dmd',\n",
       " 'https://pedia.watcha.com/ko-KR/contents/m5Nyjad',\n",
       " 'https://pedia.watcha.com/ko-KR/contents/md6yJaO',\n",
       " 'https://pedia.watcha.com/ko-KR/contents/mWLNaNd',\n",
       " 'https://pedia.watcha.com/ko-KR/contents/mdjJEJd',\n",
       " 'https://pedia.watcha.com/ko-KR/contents/m5NnXZX',\n",
       " 'https://pedia.watcha.com/ko-KR/contents/m5nYXYd',\n",
       " 'https://pedia.watcha.com/ko-KR/contents/mWylNy5',\n",
       " 'https://pedia.watcha.com/ko-KR/contents/m5DQzYy',\n",
       " 'https://pedia.watcha.com/ko-KR/contents/mOkKp8O',\n",
       " 'https://pedia.watcha.com/ko-KR/contents/mWqlBB5',\n",
       " 'https://pedia.watcha.com/ko-KR/contents/m5Zl0MR',\n",
       " 'https://pedia.watcha.com/ko-KR/contents/mWpbEXM',\n",
       " 'https://pedia.watcha.com/ko-KR/contents/mO246N5',\n",
       " 'https://pedia.watcha.com/ko-KR/contents/mOlln26',\n",
       " 'https://pedia.watcha.com/ko-KR/contents/m5QgB4O',\n",
       " 'https://pedia.watcha.com/ko-KR/contents/m5Gq892']"
      ]
     },
     "execution_count": 5,
     "metadata": {},
     "output_type": "execute_result"
    }
   ],
   "source": [
    "movie_link"
   ]
  },
  {
   "cell_type": "code",
   "execution_count": 6,
   "id": "20c6aeb8",
   "metadata": {
    "ExecuteTime": {
     "end_time": "2022-05-19T17:03:46.021906Z",
     "start_time": "2022-05-19T17:03:45.991623Z"
    }
   },
   "outputs": [
    {
     "data": {
      "text/html": [
       "<div>\n",
       "<style scoped>\n",
       "    .dataframe tbody tr th:only-of-type {\n",
       "        vertical-align: middle;\n",
       "    }\n",
       "\n",
       "    .dataframe tbody tr th {\n",
       "        vertical-align: top;\n",
       "    }\n",
       "\n",
       "    .dataframe thead th {\n",
       "        text-align: right;\n",
       "    }\n",
       "</style>\n",
       "<table border=\"1\" class=\"dataframe\">\n",
       "  <thead>\n",
       "    <tr style=\"text-align: right;\">\n",
       "      <th></th>\n",
       "      <th>0</th>\n",
       "      <th>1</th>\n",
       "    </tr>\n",
       "  </thead>\n",
       "  <tbody>\n",
       "    <tr>\n",
       "      <th>0</th>\n",
       "      <td>티탄</td>\n",
       "      <td>https://pedia.watcha.com/ko-KR/contents/mWLyRm0</td>\n",
       "    </tr>\n",
       "    <tr>\n",
       "      <th>1</th>\n",
       "      <td>기생충</td>\n",
       "      <td>https://pedia.watcha.com/ko-KR/contents/mdRL4eL</td>\n",
       "    </tr>\n",
       "    <tr>\n",
       "      <th>2</th>\n",
       "      <td>어느 가족</td>\n",
       "      <td>https://pedia.watcha.com/ko-KR/contents/m5nQX33</td>\n",
       "    </tr>\n",
       "    <tr>\n",
       "      <th>3</th>\n",
       "      <td>더 스퀘어</td>\n",
       "      <td>https://pedia.watcha.com/ko-KR/contents/mdjaMPa</td>\n",
       "    </tr>\n",
       "    <tr>\n",
       "      <th>4</th>\n",
       "      <td>나, 다니엘 블레이크</td>\n",
       "      <td>https://pedia.watcha.com/ko-KR/contents/mOPomg7</td>\n",
       "    </tr>\n",
       "    <tr>\n",
       "      <th>...</th>\n",
       "      <td>...</td>\n",
       "      <td>...</td>\n",
       "    </tr>\n",
       "    <tr>\n",
       "      <th>94</th>\n",
       "      <td>마리아 칸델라리아</td>\n",
       "      <td>https://pedia.watcha.com/ko-KR/contents/mWpbEXM</td>\n",
       "    </tr>\n",
       "    <tr>\n",
       "      <th>95</th>\n",
       "      <td>잃어버린 주말</td>\n",
       "      <td>https://pedia.watcha.com/ko-KR/contents/mO246N5</td>\n",
       "    </tr>\n",
       "    <tr>\n",
       "      <th>96</th>\n",
       "      <td>마지막 기회</td>\n",
       "      <td>https://pedia.watcha.com/ko-KR/contents/mOlln26</td>\n",
       "    </tr>\n",
       "    <tr>\n",
       "      <th>97</th>\n",
       "      <td>밀회</td>\n",
       "      <td>https://pedia.watcha.com/ko-KR/contents/m5QgB4O</td>\n",
       "    </tr>\n",
       "    <tr>\n",
       "      <th>98</th>\n",
       "      <td>대평원</td>\n",
       "      <td>https://pedia.watcha.com/ko-KR/contents/m5Gq892</td>\n",
       "    </tr>\n",
       "  </tbody>\n",
       "</table>\n",
       "<p>99 rows × 2 columns</p>\n",
       "</div>"
      ],
      "text/plain": [
       "              0                                                1\n",
       "0            티탄  https://pedia.watcha.com/ko-KR/contents/mWLyRm0\n",
       "1           기생충  https://pedia.watcha.com/ko-KR/contents/mdRL4eL\n",
       "2         어느 가족  https://pedia.watcha.com/ko-KR/contents/m5nQX33\n",
       "3         더 스퀘어  https://pedia.watcha.com/ko-KR/contents/mdjaMPa\n",
       "4   나, 다니엘 블레이크  https://pedia.watcha.com/ko-KR/contents/mOPomg7\n",
       "..          ...                                              ...\n",
       "94    마리아 칸델라리아  https://pedia.watcha.com/ko-KR/contents/mWpbEXM\n",
       "95      잃어버린 주말  https://pedia.watcha.com/ko-KR/contents/mO246N5\n",
       "96       마지막 기회  https://pedia.watcha.com/ko-KR/contents/mOlln26\n",
       "97           밀회  https://pedia.watcha.com/ko-KR/contents/m5QgB4O\n",
       "98          대평원  https://pedia.watcha.com/ko-KR/contents/m5Gq892\n",
       "\n",
       "[99 rows x 2 columns]"
      ]
     },
     "execution_count": 6,
     "metadata": {},
     "output_type": "execute_result"
    }
   ],
   "source": [
    "df_movie = pd.DataFrame(data = [movie_name, movie_link]).T\n",
    "df_movie"
   ]
  },
  {
   "cell_type": "code",
   "execution_count": null,
   "id": "dca8f4b8",
   "metadata": {},
   "outputs": [],
   "source": []
  },
  {
   "cell_type": "code",
   "execution_count": null,
   "id": "c74c40fa",
   "metadata": {},
   "outputs": [],
   "source": []
  },
  {
   "cell_type": "code",
   "execution_count": 7,
   "id": "8e82bd6a",
   "metadata": {
    "ExecuteTime": {
     "end_time": "2022-05-19T16:56:52.848214Z",
     "start_time": "2022-05-19T16:56:52.830225Z"
    }
   },
   "outputs": [
    {
     "data": {
      "text/plain": [
       "<li class=\"css-8y23cj\"><a href=\"/ko-KR/contents/mWLyRm0\" title=\"티탄\"><div class=\"css-1qmeemv\"><div class=\" css-1rdb949-StyledLazyLoadingImage ezcopuc0\"><img class=\"css-qhzw1o-StyledImg ezcopuc1\" src=\"https://an2-img.amz.wtchn.net/image/v2/r_2yRlFZAkVoMzMLdbYPrA.jpg?jwt=ZXlKaGJHY2lPaUpJVXpJMU5pSjkuZXlKdmNIUnpJanBiSW1SZk5Ea3dlRGN3TUhFNE1DSmRMQ0p3SWpvaUwzWXlMM04wYjNKbEwybHRZV2RsTHpFMk16WTFNamt6TWpJeU56RXpOVFUzTWpNaWZRLlJUT253Z2YwRUI5YWZNbHVDSTVPLVV5X1NVX3Mzck0wdGJEdjNwMGEyRFE\"/></div><div class=\"ottBadge css-oobk33\" src=\"https://an2-img.amz.wtchn.net/image/v2/33c15d90f101414a351372f19172859f.png?jwt=ZXlKaGJHY2lPaUpJVXpJMU5pSjkuZXlKd1lYUm9Jam9pTDNZeUwzTjBiM0psTDNWcGJXRm5aUzh4TmpFeE1qQXdNVGN3T1RZd05qWTVNRE0xSW4wLlFwWFc3MERPaF9GR3ZMWVVzSUFCOFdLNWhLRjE3Ym5za1Z1bVFEN0lsSkU\"></div></div><div class=\"css-ixy093\"><div class=\"css-niy0za\">티탄</div><div class=\"css-m9i0qw\">평균 ★ 3.2</div></div></a></li>"
      ]
     },
     "execution_count": 7,
     "metadata": {},
     "output_type": "execute_result"
    }
   ],
   "source": [
    "movies[0]"
   ]
  },
  {
   "cell_type": "code",
   "execution_count": 8,
   "id": "74c50854",
   "metadata": {
    "ExecuteTime": {
     "end_time": "2022-05-19T16:56:56.123991Z",
     "start_time": "2022-05-19T16:56:56.106040Z"
    }
   },
   "outputs": [
    {
     "data": {
      "text/plain": [
       "bs4.element.Tag"
      ]
     },
     "execution_count": 8,
     "metadata": {},
     "output_type": "execute_result"
    }
   ],
   "source": [
    "type(movies[0])"
   ]
  },
  {
   "cell_type": "code",
   "execution_count": 9,
   "id": "15b92967",
   "metadata": {
    "ExecuteTime": {
     "end_time": "2022-05-19T16:57:44.790307Z",
     "start_time": "2022-05-19T16:57:44.769884Z"
    }
   },
   "outputs": [
    {
     "data": {
      "text/plain": [
       "'/ko-KR/contents/mWLyRm0'"
      ]
     },
     "execution_count": 9,
     "metadata": {},
     "output_type": "execute_result"
    }
   ],
   "source": [
    "movies[0].find('a').get('href')"
   ]
  },
  {
   "cell_type": "code",
   "execution_count": 10,
   "id": "ee0be9ab",
   "metadata": {
    "ExecuteTime": {
     "end_time": "2022-05-19T16:58:14.042174Z",
     "start_time": "2022-05-19T16:58:14.034201Z"
    }
   },
   "outputs": [
    {
     "data": {
      "text/plain": [
       "'티탄'"
      ]
     },
     "execution_count": 10,
     "metadata": {},
     "output_type": "execute_result"
    }
   ],
   "source": [
    "movies[0].find('a').get('title')"
   ]
  },
  {
   "cell_type": "code",
   "execution_count": 13,
   "id": "cb50e9da",
   "metadata": {
    "ExecuteTime": {
     "end_time": "2022-05-19T16:20:05.669615Z",
     "start_time": "2022-05-19T16:20:05.634195Z"
    }
   },
   "outputs": [],
   "source": [
    "movies[0].tag_name"
   ]
  },
  {
   "cell_type": "code",
   "execution_count": 14,
   "id": "09e58482",
   "metadata": {
    "ExecuteTime": {
     "end_time": "2022-05-19T14:27:55.161679Z",
     "start_time": "2022-05-19T14:27:55.110763Z"
    }
   },
   "outputs": [
    {
     "data": {
      "text/plain": [
       "'티탄평균 ★ 3.2'"
      ]
     },
     "execution_count": 14,
     "metadata": {},
     "output_type": "execute_result"
    }
   ],
   "source": [
    "movies[0].text"
   ]
  },
  {
   "cell_type": "code",
   "execution_count": null,
   "id": "d076744c",
   "metadata": {},
   "outputs": [],
   "source": []
  }
 ],
 "metadata": {
  "hide_input": false,
  "kernelspec": {
   "display_name": "Python 3",
   "language": "python",
   "name": "python3"
  },
  "language_info": {
   "codemirror_mode": {
    "name": "ipython",
    "version": 3
   },
   "file_extension": ".py",
   "mimetype": "text/x-python",
   "name": "python",
   "nbconvert_exporter": "python",
   "pygments_lexer": "ipython3",
   "version": "3.8.8"
  },
  "toc": {
   "base_numbering": 1,
   "nav_menu": {},
   "number_sections": true,
   "sideBar": true,
   "skip_h1_title": false,
   "title_cell": "Table of Contents",
   "title_sidebar": "Contents",
   "toc_cell": false,
   "toc_position": {},
   "toc_section_display": true,
   "toc_window_display": false
  },
  "varInspector": {
   "cols": {
    "lenName": 16,
    "lenType": 16,
    "lenVar": 40
   },
   "kernels_config": {
    "python": {
     "delete_cmd_postfix": "",
     "delete_cmd_prefix": "del ",
     "library": "var_list.py",
     "varRefreshCmd": "print(var_dic_list())"
    },
    "r": {
     "delete_cmd_postfix": ") ",
     "delete_cmd_prefix": "rm(",
     "library": "var_list.r",
     "varRefreshCmd": "cat(var_dic_list()) "
    }
   },
   "types_to_exclude": [
    "module",
    "function",
    "builtin_function_or_method",
    "instance",
    "_Feature"
   ],
   "window_display": false
  }
 },
 "nbformat": 4,
 "nbformat_minor": 5
}
